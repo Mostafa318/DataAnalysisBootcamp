{
 "cells": [
  {
   "cell_type": "markdown",
   "id": "9cbcba08",
   "metadata": {},
   "source": [
    "<h2 align=right style=\"line-height:200%;font-family:vazir;color:#0099cc\">\n",
    "<font face=\"vazir\" color=\"#0099cc\">\n",
    "<b>نتفلیکس</b>\n",
    "</font>\n",
    "</h2>\n"
   ]
  },
  {
   "cell_type": "markdown",
   "id": "f7cd7632",
   "metadata": {},
   "source": [
    "<h2 align=right style=\"line-height:200%;font-family:vazir;color:#0099cc\">\n",
    "<font face=\"vazir\" color=\"#0099cc\">\n",
    "مقدمه\n",
    "</font>\n",
    "</h2>"
   ]
  },
  {
   "cell_type": "markdown",
   "id": "2337dffa",
   "metadata": {
    "id": "30vPDJVPSS7M"
   },
   "source": [
    "<p dir=rtl style=\"direction: rtl;text-align: right;line-height:200%;font-family:vazir;font-size:medium\">\n",
    "<font face=\"vazir\" size=3>\n",
    "در این تمرین نمودار‌هایی را با توجه داده‌های شرکت نتفلیکس رسم می‌کنیم و با توجه به آنها تحلیل‌هایی ارائه می‌کنیم.\n",
    "<br>\n",
    "کتابخانه‌هایی که برای مصورسازی استفاده می‌کنیم مت‌پلات‌لیب، پلاتلی و سیبورن خواهند بود.\n",
    "</font>\n",
    "</p>\n"
   ]
  },
  {
   "cell_type": "code",
   "execution_count": null,
   "id": "84b04481",
   "metadata": {},
   "outputs": [],
   "source": [
    "import pandas as pd\n",
    "import numpy as np\n",
    "import matplotlib.pyplot as plt\n",
    "import seaborn as sns\n",
    "%matplotlib inline\n",
    "import warnings\n",
    "warnings.filterwarnings(\"ignore\")\n",
    "import plotly as py\n",
    "import plotly.graph_objs as go\n",
    "import os\n",
    "py.offline.init_notebook_mode(connected = True)\n",
    "import datetime as dt\n",
    "plt.rcParams['figure.dpi'] = 140\n"
   ]
  },
  {
   "cell_type": "markdown",
   "id": "d30f0f20",
   "metadata": {},
   "source": [
    "<p dir=rtl style=\"direction: rtl;text-align: right;line-height:200%;font-family:vazir;font-size:medium\">\n",
    "<font face=\"vazir\" size=3>\n",
    "در بخش اول کمی تمیزکاری در داده‌ها خواهیم داشت.\n",
    "<br>\n",
    "در ستون‌های cast , director به جای مقادیر خالی عبارت \"No Data\" قرار دهید و در بقیه ردیف‌هایی که مقادیر خالی دارند را حذف کنید.\n",
    "<br>\n",
    "در انتها نباید هیچ مقدار خالی و گم‌شده‌ای وجود داشته باشد.\n",
    "</font>\n",
    "</p>\n"
   ]
  },
  {
   "cell_type": "code",
   "execution_count": null,
   "id": "065c1e55",
   "metadata": {
    "scrolled": true
   },
   "outputs": [],
   "source": []
  },
  {
   "cell_type": "markdown",
   "id": "6e01d0be",
   "metadata": {},
   "source": [
    "<p dir=rtl style=\"direction: rtl;text-align: right;line-height:200%;font-family:vazir;font-size:medium\">\n",
    "<font face=\"vazir\" size=3>\n",
    "در بخش بعدی با توجه به ستون date_added ستون‌های:\n",
    "    <br>\n",
    "    month_added (ماهی که فیلم اضافه شده)<br>\n",
    "    month_name_added (نام ماهی که فیلم اضافه شده مثلا ژانویه)<br>\n",
    "    year_added (سالی که فیلم اضافه شده) را اضافه کنید  \n",
    "</font>\n",
    "</p>\n"
   ]
  },
  {
   "cell_type": "code",
   "execution_count": null,
   "id": "f851b5d4",
   "metadata": {},
   "outputs": [],
   "source": []
  },
  {
   "cell_type": "markdown",
   "id": "5a6f80f5",
   "metadata": {},
   "source": [
    "<h2 dir=rtl align=right style=\"line-height:200%;font-family:vazir;color:#0099cc\">\n",
    "<font face=\"vazir\" color=\"#0099cc\">\n",
    "نمودار اول (نسبت فیلم‌ها و سریال‌ها)\n",
    "</font>\n",
    "</h2>\n",
    "\n",
    "<p dir=rtl style=\"direction: rtl;text-align: right;line-height:200%;font-family:vazir;font-size:medium\">\n",
    "<font face=\"vazir\" size=3>\n",
    "    در این نمودار با استفاده از متد <b>barh</b> نشان دهید که چند درصد محتواها فیلم و چند درصد سریال هستند.\n",
    "    <br>\n",
    "    جزئیاتی که باید در نمودار رعایت کنید :\n",
    "    <br>\n",
    "</font>    \n",
    "</p>\n",
    "\n",
    "<ul style=\"direction: rtl;text-align: right;\", face=\"vazir\" size=3>\n",
    "\n",
    "<li>\n",
    "    figsize = (6.5, 2.5)\n",
    "</li>    \n",
    "<li>\n",
    "رنگ بخش فیلم‌ها: #b20710 \n",
    "</li>     \n",
    "    \n",
    "<li>\n",
    "رنگ بخش سریال‌ها:\n",
    "    #221f1f \n",
    "</li>   \n",
    "\n",
    "<li>    \n",
    "alplha: 0.9    \n",
    "</li>    \n",
    "   \n",
    "  \n",
    "<li> محور‌های دور نمودار را حذف کنید (می‌توانید کلید واژه spines \n",
    "را جستجو کنید)\n",
    "    </li>   \n",
    "<li>\n",
    "    fontfamily = serif\n",
    "</li>   \n",
    "    \n",
    "\n",
    "</ul>    \n"
   ]
  },
  {
   "cell_type": "code",
   "execution_count": null,
   "id": "327a39f9",
   "metadata": {
    "scrolled": true
   },
   "outputs": [],
   "source": [
    "fig_ratio, ax_ratio = #todo"
   ]
  },
  {
   "cell_type": "markdown",
   "id": "01737d47",
   "metadata": {},
   "source": [
    "<h2 dir=rtl align=right style=\"line-height:200%;font-family:vazir;color:#0099cc\">\n",
    "<font face=\"vazir\" color=\"#0099cc\">\n",
    "نمودار دوم (ده کشور برتر)\n",
    "</font>\n",
    "</h2>\n",
    "\n",
    "<p dir=rtl style=\"direction: rtl;text-align: right;line-height:200%;font-family:vazir;font-size:medium\">\n",
    "<font face=\"vazir\" size=3>\n",
    "    در این نمودار با استفاده از یک نمودار میله‌ای، ده کشوری که بیشترین محتوا در نتفلیکس دارند را نشان دهید.\n",
    "    اگر بیش از یک کشور در ساخت محتوا مشارکت داشتند کشور اولی که در لیست آمده را در نظر بگیرید. مثلا اگر یک فیلم محصول مشترک امریکا،انگلیس و آلمان است. شما امریکا را در نظر بگیرید.\n",
    "    <br>\n",
    "    جزئیاتی که باید در نمودار رعایت کنید :\n",
    "    <br>\n",
    "</font>    \n",
    "</p>\n",
    "\n",
    "<ul style=\"direction: rtl;text-align: right;\", face=\"vazir\" size=3>\n",
    "\n",
    "<li>\n",
    "    figsize = (12, 6)\n",
    "</li>    \n",
    "    \n",
    "<li>\n",
    "رنگ میله سه کشور اول:\n",
    "    #b20710\n",
    "</li>     \n",
    "    \n",
    "<li>\n",
    "رنگ میله باقی کشورها: \n",
    "    #f5f5f1 \n",
    "</li>   \n",
    "\n",
    "<li>    \n",
    "alplha: 0.9    \n",
    "</li>    \n",
    "   \n",
    "  \n",
    "<li> محور‌های بالا، چپ و راست را حذف کنید (می‌توانید کلید واژه spines \n",
    "را جستجو کنید)\n",
    "    </li>   \n",
    "    \n",
    "\n",
    "<li>    \n",
    "نام United States را به US و United Kingdom را به UK و South Korea را به S. Korea تغییر دهید. \n",
    "</li> \n",
    "    \n",
    "<li>\n",
    "fontfamily = serif\n",
    "</li>   \n",
    "    \n",
    "<li>\n",
    "    alignment متن‌ها را center قرار دهید \n",
    "</li>    \n",
    "\n",
    "<li>\n",
    "labelsize=12\n",
    "<br>\n",
    "length = 0 ( در tick_params )    \n",
    "</li>    \n",
    "    \n",
    "<li>\n",
    "محور افقی با گام ۵۰۰\n",
    "</li>    \n",
    "</ul>    \n"
   ]
  },
  {
   "cell_type": "code",
   "execution_count": null,
   "id": "191336ae",
   "metadata": {
    "scrolled": true
   },
   "outputs": [],
   "source": [
    "fig_top10, ax_top10 = #todo"
   ]
  },
  {
   "cell_type": "markdown",
   "id": "3122100d",
   "metadata": {},
   "source": [
    "<h2 dir=rtl align=right style=\"line-height:200%;font-family:vazir;color:#0099cc\">\n",
    "<font face=\"vazir\" color=\"#0099cc\">\n",
    "نمودار سوم (تعداد محتوای منتشر شده در هر سال)\n",
    "</font>\n",
    "</h2>\n",
    "\n",
    "<p dir=rtl style=\"direction: rtl;text-align: right;line-height:200%;font-family:vazir;font-size:medium\">\n",
    "<font face=\"vazir\" size=3>\n",
    "    در این نمودار تعداد محتوای منتشر شده در هر سال از سال ۲۰۰۸ تا ۲۰۲۰ را به تفکیک فیلم و سریال نشان دهید.\n",
    "    <br>\n",
    "    جزئیاتی که باید در نمودار رعایت کنید :\n",
    "    <br>\n",
    "</font>    \n",
    "</p>\n",
    "\n",
    "<ul style=\"direction: rtl;text-align: right;\", face=\"vazir\" size=3>\n",
    "\n",
    "<li>\n",
    "    figsize = (12, 6)\n",
    "</li>    \n",
    "    \n",
    "<li>\n",
    "رنگ بخش فیلم‌ها:\n",
    "    #b20710\n",
    "</li>     \n",
    "    \n",
    "<li>\n",
    "رنگ بخش سریال‌ها:\n",
    "    #221f1f \n",
    "</li>   \n",
    "\n",
    "<li>    \n",
    "alplha: 0.9    \n",
    "</li>    \n",
    "   \n",
    "  \n",
    "<li> محور‌های دور نمودار را حذف کنید (می‌توانید کلید واژه spines \n",
    "را جستجو کنید)\n",
    "    </li>   \n",
    "    \n",
    "\n",
    "<li>    \n",
    "داده \n",
    "</li> \n",
    "    \n",
    "<li>\n",
    "fontfamily = serif\n",
    "</li>   \n",
    "    \n",
    "<li>\n",
    "    alignment متن‌ها را center قرار دهید \n",
    "</li>    \n",
    "\n",
    "<li>\n",
    "labelsize=12\n",
    "<br>\n",
    "length = 0 ( در tick_params )    \n",
    "</li>    \n",
    "    \n",
    "<li>\n",
    "xlim(2008,2020)   \n",
    "</li>    \n",
    "    \n",
    "<li>\n",
    "لیبل‌های محور y را در سمت راست قرار دهید\n",
    "</li>    \n",
    "    \n",
    "<li>\n",
    "grid = False    \n",
    "</li>    \n",
    "    \n",
    "<li>\n",
    "یک خط با این مشخصات روی محور افقی بکشید\n",
    "</li>    \n",
    "</ul>    \n"
   ]
  },
  {
   "cell_type": "code",
   "execution_count": null,
   "id": "cd15ceb8",
   "metadata": {
    "scrolled": true
   },
   "outputs": [],
   "source": [
    "fig_mediaOverTime, ax_mediaOverTime = #todo"
   ]
  },
  {
   "cell_type": "markdown",
   "id": "7341ff2d",
   "metadata": {},
   "source": [
    "<h2 align=right style=\"line-height:200%;font-family:vazir;color:#0099cc\">\n",
    "<font face=\"vazir\" color=\"#0099cc\">\n",
    "<b>سلول جواب‌ساز</b>\n",
    "</font>\n",
    "</h2>\n"
   ]
  },
  {
   "cell_type": "code",
   "execution_count": null,
   "id": "5f63b15c",
   "metadata": {},
   "outputs": [],
   "source": [
    "import zlib\n",
    "import zipfile\n",
    "import joblib\n",
    "\n",
    "joblib.dump(fig_ratio,\"fig_ratio\")\n",
    "joblib.dump(fig_top10,\"fig_top10\")\n",
    "joblib.dump(fig_mediaOverTime,\"fig_mediaOverTime\")\n",
    "\n",
    "def compress(file_names):\n",
    "    print(\"File Paths:\")\n",
    "    print(file_names)\n",
    "    # Select the compression mode ZIP_DEFLATED for compression\n",
    "    # or zipfile.ZIP_STORED to just store the file\n",
    "    compression = zipfile.ZIP_DEFLATED\n",
    "    # create the zip file first parameter path/name, second mode\n",
    "    with zipfile.ZipFile(\"result.zip\", mode=\"w\") as zf:\n",
    "        for file_name in file_names:\n",
    "            # Add file to the zip file\n",
    "            # first parameter file to zip, second filename in zip\n",
    "            zf.write('./' + file_name, file_name, compress_type=compression)\n",
    "\n",
    "\n",
    "file_names = [\"fig_ratio\",\"fig_top10\",\"fig_mediaOverTime\", \"netflix.ipynb\"]\n",
    "compress(file_names)"
   ]
  },
  {
   "cell_type": "code",
   "execution_count": null,
   "id": "103962d4",
   "metadata": {},
   "outputs": [],
   "source": []
  }
 ],
 "metadata": {
  "kernelspec": {
   "display_name": "Python 3 (ipykernel)",
   "language": "python",
   "name": "python3"
  },
  "language_info": {
   "codemirror_mode": {
    "name": "ipython",
    "version": 3
   },
   "file_extension": ".py",
   "mimetype": "text/x-python",
   "name": "python",
   "nbconvert_exporter": "python",
   "pygments_lexer": "ipython3",
   "version": "3.10.10"
  }
 },
 "nbformat": 4,
 "nbformat_minor": 5
}
